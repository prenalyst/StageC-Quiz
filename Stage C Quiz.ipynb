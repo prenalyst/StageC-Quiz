{
 "cells": [
  {
   "cell_type": "markdown",
   "metadata": {
    "colab_type": "text",
    "id": "-scX8TrZfnj5"
   },
   "source": [
    "# Introduction \n",
    "\n",
    "In this work, we’ll build a binary classification model to predict if a grid is stable or unstable using the UCI Electrical Grid Stability Simulated dataset.\n",
    "\n",
    "The dataset can be accessed from the UCI Machine Learning Repository via this [link](https://archive.ics.uci.edu/ml/datasets/Electrical+Grid+Stability+Simulated+Data+)"
   ]
  },
  {
   "cell_type": "code",
   "execution_count": 68,
   "metadata": {
    "colab": {},
    "colab_type": "code",
    "executionInfo": {
     "elapsed": 2685,
     "status": "ok",
     "timestamp": 1598431779972,
     "user": {
      "displayName": "Olaoluwa Olaniyi",
      "photoUrl": "https://lh3.googleusercontent.com/a-/AOh14Gia510MxQJprLvA5BAtNn-4olz_NH98a_OrMREhlg=s64",
      "userId": "07885896635473036447"
     },
     "user_tz": -60
    },
    "id": "CSw8Rt9Dfnj8"
   },
   "outputs": [],
   "source": [
    "# Import data manipulation libraries\n",
    "import pandas as pd\n",
    "import numpy as np"
   ]
  },
  {
   "cell_type": "code",
   "execution_count": 69,
   "metadata": {
    "colab": {
     "base_uri": "https://localhost:8080/",
     "height": 54
    },
    "colab_type": "code",
    "executionInfo": {
     "elapsed": 3170,
     "status": "ok",
     "timestamp": 1598431780493,
     "user": {
      "displayName": "Olaoluwa Olaniyi",
      "photoUrl": "https://lh3.googleusercontent.com/a-/AOh14Gia510MxQJprLvA5BAtNn-4olz_NH98a_OrMREhlg=s64",
      "userId": "07885896635473036447"
     },
     "user_tz": -60
    },
    "id": "Wxk0IiFyoJvv",
    "outputId": "b2ace5f5-c694-410c-86e3-164a2eb09323"
   },
   "outputs": [
    {
     "name": "stdout",
     "output_type": "stream",
     "text": [
      "Drive already mounted at /content/drive; to attempt to forcibly remount, call drive.mount(\"/content/drive\", force_remount=True).\n"
     ]
    }
   ],
   "source": [
    "from google.colab import drive\n",
    "drive.mount('/content/drive')"
   ]
  },
  {
   "cell_type": "code",
   "execution_count": 70,
   "metadata": {
    "code_folding": [
     0
    ],
    "colab": {},
    "colab_type": "code",
    "executionInfo": {
     "elapsed": 3149,
     "status": "ok",
     "timestamp": 1598431780496,
     "user": {
      "displayName": "Olaoluwa Olaniyi",
      "photoUrl": "https://lh3.googleusercontent.com/a-/AOh14Gia510MxQJprLvA5BAtNn-4olz_NH98a_OrMREhlg=s64",
      "userId": "07885896635473036447"
     },
     "user_tz": -60
    },
    "id": "FvI_8HTOfnkH"
   },
   "outputs": [],
   "source": [
    "# Read the uploaded dataset into a dataframe\n",
    "data = pd.read_csv('/content/drive/My Drive/Colab Notebooks/Datasets/uci_data.csv')"
   ]
  },
  {
   "cell_type": "code",
   "execution_count": 71,
   "metadata": {
    "colab": {
     "base_uri": "https://localhost:8080/",
     "height": 426
    },
    "colab_type": "code",
    "executionInfo": {
     "elapsed": 3122,
     "status": "ok",
     "timestamp": 1598431780498,
     "user": {
      "displayName": "Olaoluwa Olaniyi",
      "photoUrl": "https://lh3.googleusercontent.com/a-/AOh14Gia510MxQJprLvA5BAtNn-4olz_NH98a_OrMREhlg=s64",
      "userId": "07885896635473036447"
     },
     "user_tz": -60
    },
    "id": "Ac_cFUelfnkW",
    "outputId": "585ed08e-978f-4643-9244-3fe69fc34d53",
    "scrolled": true
   },
   "outputs": [
    {
     "data": {
      "text/html": [
       "<div>\n",
       "<style scoped>\n",
       "    .dataframe tbody tr th:only-of-type {\n",
       "        vertical-align: middle;\n",
       "    }\n",
       "\n",
       "    .dataframe tbody tr th {\n",
       "        vertical-align: top;\n",
       "    }\n",
       "\n",
       "    .dataframe thead th {\n",
       "        text-align: right;\n",
       "    }\n",
       "</style>\n",
       "<table border=\"1\" class=\"dataframe\">\n",
       "  <thead>\n",
       "    <tr style=\"text-align: right;\">\n",
       "      <th></th>\n",
       "      <th>tau1</th>\n",
       "      <th>tau2</th>\n",
       "      <th>tau3</th>\n",
       "      <th>tau4</th>\n",
       "      <th>p1</th>\n",
       "      <th>p2</th>\n",
       "      <th>p3</th>\n",
       "      <th>p4</th>\n",
       "      <th>g1</th>\n",
       "      <th>g2</th>\n",
       "      <th>g3</th>\n",
       "      <th>g4</th>\n",
       "      <th>stab</th>\n",
       "      <th>stabf</th>\n",
       "    </tr>\n",
       "  </thead>\n",
       "  <tbody>\n",
       "    <tr>\n",
       "      <th>0</th>\n",
       "      <td>2.959060</td>\n",
       "      <td>3.079885</td>\n",
       "      <td>8.381025</td>\n",
       "      <td>9.780754</td>\n",
       "      <td>3.763085</td>\n",
       "      <td>-0.782604</td>\n",
       "      <td>-1.257395</td>\n",
       "      <td>-1.723086</td>\n",
       "      <td>0.650456</td>\n",
       "      <td>0.859578</td>\n",
       "      <td>0.887445</td>\n",
       "      <td>0.958034</td>\n",
       "      <td>0.055347</td>\n",
       "      <td>unstable</td>\n",
       "    </tr>\n",
       "    <tr>\n",
       "      <th>1</th>\n",
       "      <td>9.304097</td>\n",
       "      <td>4.902524</td>\n",
       "      <td>3.047541</td>\n",
       "      <td>1.369357</td>\n",
       "      <td>5.067812</td>\n",
       "      <td>-1.940058</td>\n",
       "      <td>-1.872742</td>\n",
       "      <td>-1.255012</td>\n",
       "      <td>0.413441</td>\n",
       "      <td>0.862414</td>\n",
       "      <td>0.562139</td>\n",
       "      <td>0.781760</td>\n",
       "      <td>-0.005957</td>\n",
       "      <td>stable</td>\n",
       "    </tr>\n",
       "    <tr>\n",
       "      <th>2</th>\n",
       "      <td>8.971707</td>\n",
       "      <td>8.848428</td>\n",
       "      <td>3.046479</td>\n",
       "      <td>1.214518</td>\n",
       "      <td>3.405158</td>\n",
       "      <td>-1.207456</td>\n",
       "      <td>-1.277210</td>\n",
       "      <td>-0.920492</td>\n",
       "      <td>0.163041</td>\n",
       "      <td>0.766689</td>\n",
       "      <td>0.839444</td>\n",
       "      <td>0.109853</td>\n",
       "      <td>0.003471</td>\n",
       "      <td>unstable</td>\n",
       "    </tr>\n",
       "    <tr>\n",
       "      <th>3</th>\n",
       "      <td>0.716415</td>\n",
       "      <td>7.669600</td>\n",
       "      <td>4.486641</td>\n",
       "      <td>2.340563</td>\n",
       "      <td>3.963791</td>\n",
       "      <td>-1.027473</td>\n",
       "      <td>-1.938944</td>\n",
       "      <td>-0.997374</td>\n",
       "      <td>0.446209</td>\n",
       "      <td>0.976744</td>\n",
       "      <td>0.929381</td>\n",
       "      <td>0.362718</td>\n",
       "      <td>0.028871</td>\n",
       "      <td>unstable</td>\n",
       "    </tr>\n",
       "    <tr>\n",
       "      <th>4</th>\n",
       "      <td>3.134112</td>\n",
       "      <td>7.608772</td>\n",
       "      <td>4.943759</td>\n",
       "      <td>9.857573</td>\n",
       "      <td>3.525811</td>\n",
       "      <td>-1.125531</td>\n",
       "      <td>-1.845975</td>\n",
       "      <td>-0.554305</td>\n",
       "      <td>0.797110</td>\n",
       "      <td>0.455450</td>\n",
       "      <td>0.656947</td>\n",
       "      <td>0.820923</td>\n",
       "      <td>0.049860</td>\n",
       "      <td>unstable</td>\n",
       "    </tr>\n",
       "    <tr>\n",
       "      <th>...</th>\n",
       "      <td>...</td>\n",
       "      <td>...</td>\n",
       "      <td>...</td>\n",
       "      <td>...</td>\n",
       "      <td>...</td>\n",
       "      <td>...</td>\n",
       "      <td>...</td>\n",
       "      <td>...</td>\n",
       "      <td>...</td>\n",
       "      <td>...</td>\n",
       "      <td>...</td>\n",
       "      <td>...</td>\n",
       "      <td>...</td>\n",
       "      <td>...</td>\n",
       "    </tr>\n",
       "    <tr>\n",
       "      <th>9995</th>\n",
       "      <td>2.930406</td>\n",
       "      <td>9.487627</td>\n",
       "      <td>2.376523</td>\n",
       "      <td>6.187797</td>\n",
       "      <td>3.343416</td>\n",
       "      <td>-0.658054</td>\n",
       "      <td>-1.449106</td>\n",
       "      <td>-1.236256</td>\n",
       "      <td>0.601709</td>\n",
       "      <td>0.779642</td>\n",
       "      <td>0.813512</td>\n",
       "      <td>0.608385</td>\n",
       "      <td>0.023892</td>\n",
       "      <td>unstable</td>\n",
       "    </tr>\n",
       "    <tr>\n",
       "      <th>9996</th>\n",
       "      <td>3.392299</td>\n",
       "      <td>1.274827</td>\n",
       "      <td>2.954947</td>\n",
       "      <td>6.894759</td>\n",
       "      <td>4.349512</td>\n",
       "      <td>-1.663661</td>\n",
       "      <td>-0.952437</td>\n",
       "      <td>-1.733414</td>\n",
       "      <td>0.502079</td>\n",
       "      <td>0.567242</td>\n",
       "      <td>0.285880</td>\n",
       "      <td>0.366120</td>\n",
       "      <td>-0.025803</td>\n",
       "      <td>stable</td>\n",
       "    </tr>\n",
       "    <tr>\n",
       "      <th>9997</th>\n",
       "      <td>2.364034</td>\n",
       "      <td>2.842030</td>\n",
       "      <td>8.776391</td>\n",
       "      <td>1.008906</td>\n",
       "      <td>4.299976</td>\n",
       "      <td>-1.380719</td>\n",
       "      <td>-0.943884</td>\n",
       "      <td>-1.975373</td>\n",
       "      <td>0.487838</td>\n",
       "      <td>0.986505</td>\n",
       "      <td>0.149286</td>\n",
       "      <td>0.145984</td>\n",
       "      <td>-0.031810</td>\n",
       "      <td>stable</td>\n",
       "    </tr>\n",
       "    <tr>\n",
       "      <th>9998</th>\n",
       "      <td>9.631511</td>\n",
       "      <td>3.994398</td>\n",
       "      <td>2.757071</td>\n",
       "      <td>7.821347</td>\n",
       "      <td>2.514755</td>\n",
       "      <td>-0.966330</td>\n",
       "      <td>-0.649915</td>\n",
       "      <td>-0.898510</td>\n",
       "      <td>0.365246</td>\n",
       "      <td>0.587558</td>\n",
       "      <td>0.889118</td>\n",
       "      <td>0.818391</td>\n",
       "      <td>0.037789</td>\n",
       "      <td>unstable</td>\n",
       "    </tr>\n",
       "    <tr>\n",
       "      <th>9999</th>\n",
       "      <td>6.530527</td>\n",
       "      <td>6.781790</td>\n",
       "      <td>4.349695</td>\n",
       "      <td>8.673138</td>\n",
       "      <td>3.492807</td>\n",
       "      <td>-1.390285</td>\n",
       "      <td>-1.532193</td>\n",
       "      <td>-0.570329</td>\n",
       "      <td>0.073056</td>\n",
       "      <td>0.505441</td>\n",
       "      <td>0.378761</td>\n",
       "      <td>0.942631</td>\n",
       "      <td>0.045263</td>\n",
       "      <td>unstable</td>\n",
       "    </tr>\n",
       "  </tbody>\n",
       "</table>\n",
       "<p>10000 rows × 14 columns</p>\n",
       "</div>"
      ],
      "text/plain": [
       "          tau1      tau2      tau3  ...        g4      stab     stabf\n",
       "0     2.959060  3.079885  8.381025  ...  0.958034  0.055347  unstable\n",
       "1     9.304097  4.902524  3.047541  ...  0.781760 -0.005957    stable\n",
       "2     8.971707  8.848428  3.046479  ...  0.109853  0.003471  unstable\n",
       "3     0.716415  7.669600  4.486641  ...  0.362718  0.028871  unstable\n",
       "4     3.134112  7.608772  4.943759  ...  0.820923  0.049860  unstable\n",
       "...        ...       ...       ...  ...       ...       ...       ...\n",
       "9995  2.930406  9.487627  2.376523  ...  0.608385  0.023892  unstable\n",
       "9996  3.392299  1.274827  2.954947  ...  0.366120 -0.025803    stable\n",
       "9997  2.364034  2.842030  8.776391  ...  0.145984 -0.031810    stable\n",
       "9998  9.631511  3.994398  2.757071  ...  0.818391  0.037789  unstable\n",
       "9999  6.530527  6.781790  4.349695  ...  0.942631  0.045263  unstable\n",
       "\n",
       "[10000 rows x 14 columns]"
      ]
     },
     "execution_count": 71,
     "metadata": {
      "tags": []
     },
     "output_type": "execute_result"
    }
   ],
   "source": [
    "# Overview the dataframe\n",
    "data"
   ]
  },
  {
   "cell_type": "markdown",
   "metadata": {
    "colab_type": "text",
    "id": "PO-dpXmPfnkh"
   },
   "source": [
    "Looking at the dataframe above, we can observe some relationship between `stab` and `stabf` columns. \n",
    "\n",
    "Whenever `stab` <= **0**, the corresponding value in `stabf` will be **\"stable\"**; if otherwise, `stabf` will be **\"unstable\"**. \n",
    "\n",
    "Because of this relationship, we are going to drop the `stab` column in the dataframe. This will essentially make `stabf` the sole dependent variable."
   ]
  },
  {
   "cell_type": "code",
   "execution_count": 72,
   "metadata": {
    "colab": {},
    "colab_type": "code",
    "executionInfo": {
     "elapsed": 3101,
     "status": "ok",
     "timestamp": 1598431780500,
     "user": {
      "displayName": "Olaoluwa Olaniyi",
      "photoUrl": "https://lh3.googleusercontent.com/a-/AOh14Gia510MxQJprLvA5BAtNn-4olz_NH98a_OrMREhlg=s64",
      "userId": "07885896635473036447"
     },
     "user_tz": -60
    },
    "id": "NjbxZPlrfnki"
   },
   "outputs": [],
   "source": [
    "data.drop('stab', axis=1, inplace=True)"
   ]
  },
  {
   "cell_type": "code",
   "execution_count": 73,
   "metadata": {
    "colab": {
     "base_uri": "https://localhost:8080/",
     "height": 256
    },
    "colab_type": "code",
    "executionInfo": {
     "elapsed": 3086,
     "status": "ok",
     "timestamp": 1598431780501,
     "user": {
      "displayName": "Olaoluwa Olaniyi",
      "photoUrl": "https://lh3.googleusercontent.com/a-/AOh14Gia510MxQJprLvA5BAtNn-4olz_NH98a_OrMREhlg=s64",
      "userId": "07885896635473036447"
     },
     "user_tz": -60
    },
    "id": "etXFYR2lfnkq",
    "outputId": "48ff188f-7b07-4e50-dd94-88abde9dfa94"
   },
   "outputs": [
    {
     "name": "stdout",
     "output_type": "stream",
     "text": [
      "tau1     0\n",
      "tau2     0\n",
      "tau3     0\n",
      "tau4     0\n",
      "p1       0\n",
      "p2       0\n",
      "p3       0\n",
      "p4       0\n",
      "g1       0\n",
      "g2       0\n",
      "g3       0\n",
      "g4       0\n",
      "stabf    0\n",
      "dtype: int64\n"
     ]
    }
   ],
   "source": [
    "# Checking for null values\n",
    "print(data.isna().sum())"
   ]
  },
  {
   "cell_type": "markdown",
   "metadata": {
    "colab_type": "text",
    "id": "TP6DDufsfnky"
   },
   "source": [
    "Let's take a look at the distribution of the values in the `stabf` column."
   ]
  },
  {
   "cell_type": "code",
   "execution_count": 74,
   "metadata": {
    "colab": {
     "base_uri": "https://localhost:8080/",
     "height": 68
    },
    "colab_type": "code",
    "executionInfo": {
     "elapsed": 3066,
     "status": "ok",
     "timestamp": 1598431780504,
     "user": {
      "displayName": "Olaoluwa Olaniyi",
      "photoUrl": "https://lh3.googleusercontent.com/a-/AOh14Gia510MxQJprLvA5BAtNn-4olz_NH98a_OrMREhlg=s64",
      "userId": "07885896635473036447"
     },
     "user_tz": -60
    },
    "id": "0YJ_aECKfnk0",
    "outputId": "0e6bc12d-6899-4444-f2db-b1fe2092310b"
   },
   "outputs": [
    {
     "data": {
      "text/plain": [
       "unstable    6380\n",
       "stable      3620\n",
       "Name: stabf, dtype: int64"
      ]
     },
     "execution_count": 74,
     "metadata": {
      "tags": []
     },
     "output_type": "execute_result"
    }
   ],
   "source": [
    "data['stabf'].value_counts()"
   ]
  },
  {
   "cell_type": "markdown",
   "metadata": {
    "colab_type": "text",
    "id": "twGpxITlfnk8"
   },
   "source": [
    "What we have is a **binary classification problem** with just two classess.\n",
    "\n",
    "Now let's split the data into training and testing sets."
   ]
  },
  {
   "cell_type": "code",
   "execution_count": 75,
   "metadata": {
    "code_folding": [],
    "colab": {},
    "colab_type": "code",
    "executionInfo": {
     "elapsed": 3044,
     "status": "ok",
     "timestamp": 1598431780506,
     "user": {
      "displayName": "Olaoluwa Olaniyi",
      "photoUrl": "https://lh3.googleusercontent.com/a-/AOh14Gia510MxQJprLvA5BAtNn-4olz_NH98a_OrMREhlg=s64",
      "userId": "07885896635473036447"
     },
     "user_tz": -60
    },
    "id": "qXH9eH86fnlB"
   },
   "outputs": [],
   "source": [
    "# Import train_test_split\n",
    "from sklearn.model_selection import train_test_split\n",
    "\n",
    "# Split the dataframe\n",
    "x_train, x_test, y_train, y_test = train_test_split(data.drop(['stabf'], axis=1), data['stabf'], test_size=0.2, random_state=1)\n"
   ]
  },
  {
   "cell_type": "markdown",
   "metadata": {
    "colab_type": "text",
    "id": "4LliNKdGfnlJ"
   },
   "source": [
    "We are going to use *standard scaler* to transform the train set, `x_train`, and the test set, `x_test`."
   ]
  },
  {
   "cell_type": "code",
   "execution_count": 76,
   "metadata": {
    "colab": {},
    "colab_type": "code",
    "executionInfo": {
     "elapsed": 3029,
     "status": "ok",
     "timestamp": 1598431780508,
     "user": {
      "displayName": "Olaoluwa Olaniyi",
      "photoUrl": "https://lh3.googleusercontent.com/a-/AOh14Gia510MxQJprLvA5BAtNn-4olz_NH98a_OrMREhlg=s64",
      "userId": "07885896635473036447"
     },
     "user_tz": -60
    },
    "id": "g9q77bLvfnlK"
   },
   "outputs": [],
   "source": [
    "# Import StandardScaler\n",
    "from sklearn.preprocessing import StandardScaler\n",
    " \n",
    "# Instantiate into a variable\n",
    "scaler = StandardScaler()\n",
    " \n",
    "# Normalize x_train\n",
    "norm_x_train = scaler.fit_transform(x_train)\n",
    "# Transform to dataframe\n",
    "norm_x_train = pd.DataFrame(norm_x_train, columns=x_train.columns)\n",
    " \n",
    "# Normalize x_test\n",
    "norm_x_test = scaler.fit_transform(x_test)\n",
    "# Transform to dataframe\n",
    "norm_x_test = pd.DataFrame(norm_x_test, columns=x_test.columns)"
   ]
  },
  {
   "cell_type": "markdown",
   "metadata": {
    "colab_type": "text",
    "id": "wRGmVRIS5CN6"
   },
   "source": [
    "# Training Classifiers and Measuring Perfornances.\n",
    " \n",
    "Now we are moving on to training different models on our data. The training will be in this order:\n",
    " \n",
    "- Select a classifier\n",
    "  - Train the classifier\n",
    "  - Make predictions with the classifier\n",
    "  - Measure the performance of the classifier\n",
    " \n",
    "Firstly, let us import the libraries we are going to use for measuring performance."
   ]
  },
  {
   "cell_type": "code",
   "execution_count": 77,
   "metadata": {
    "colab": {},
    "colab_type": "code",
    "executionInfo": {
     "elapsed": 3015,
     "status": "ok",
     "timestamp": 1598431780510,
     "user": {
      "displayName": "Olaoluwa Olaniyi",
      "photoUrl": "https://lh3.googleusercontent.com/a-/AOh14Gia510MxQJprLvA5BAtNn-4olz_NH98a_OrMREhlg=s64",
      "userId": "07885896635473036447"
     },
     "user_tz": -60
    },
    "id": "hup96_b3fnlk"
   },
   "outputs": [],
   "source": [
    "# Import essential libraries from sklearn.metrics\n",
    "from sklearn.metrics import (precision_score, accuracy_score, \n",
    "                             recall_score, f1_score, \n",
    "                             confusion_matrix)"
   ]
  },
  {
   "cell_type": "markdown",
   "metadata": {
    "colab_type": "text",
    "id": "wugVBD_h6JkQ"
   },
   "source": [
    "# Question\n",
    "What is the accuracy on the test set using the random forest classifier? In 4 decimal places."
   ]
  },
  {
   "cell_type": "markdown",
   "metadata": {
    "colab_type": "text",
    "id": "6X-uPQoufnlS"
   },
   "source": [
    "### Random Forest\n",
    " \n",
    "- Training and Prediction"
   ]
  },
  {
   "cell_type": "code",
   "execution_count": 78,
   "metadata": {
    "cell_style": "center",
    "colab": {},
    "colab_type": "code",
    "executionInfo": {
     "elapsed": 6397,
     "status": "ok",
     "timestamp": 1598431783912,
     "user": {
      "displayName": "Olaoluwa Olaniyi",
      "photoUrl": "https://lh3.googleusercontent.com/a-/AOh14Gia510MxQJprLvA5BAtNn-4olz_NH98a_OrMREhlg=s64",
      "userId": "07885896635473036447"
     },
     "user_tz": -60
    },
    "id": "2AyMSyj9fnlT"
   },
   "outputs": [],
   "source": [
    "# Import RandomForestClassifier from sklearn.ensemble\n",
    "from sklearn.ensemble import RandomForestClassifier\n",
    " \n",
    "# Instantiate RandomForestClassifier into a variable\n",
    "rf = RandomForestClassifier(random_state=1)\n",
    " \n",
    "# Fit the model\n",
    "rf.fit(x_train, y_train)\n",
    " \n",
    "# Make predictions for test set\n",
    "y_test_predictions = rf.predict(x_test)"
   ]
  },
  {
   "cell_type": "markdown",
   "metadata": {
    "colab_type": "text",
    "id": "NfamruBtfnli"
   },
   "source": [
    "- Performance Measurement"
   ]
  },
  {
   "cell_type": "code",
   "execution_count": 79,
   "metadata": {
    "colab": {
     "base_uri": "https://localhost:8080/",
     "height": 85
    },
    "colab_type": "code",
    "executionInfo": {
     "elapsed": 6395,
     "status": "ok",
     "timestamp": 1598431783926,
     "user": {
      "displayName": "Olaoluwa Olaniyi",
      "photoUrl": "https://lh3.googleusercontent.com/a-/AOh14Gia510MxQJprLvA5BAtNn-4olz_NH98a_OrMREhlg=s64",
      "userId": "07885896635473036447"
     },
     "user_tz": -60
    },
    "id": "X0rdtO92vD4Y",
    "outputId": "8ec548f9-8eaf-4da6-f208-827ac9297236"
   },
   "outputs": [
    {
     "name": "stdout",
     "output_type": "stream",
     "text": [
      "Precision Score: 0.9191\n",
      "Recall Score: 0.8778\n",
      "F1 Score: 0.898\n",
      "Accuracy Score: 0.929\n"
     ]
    }
   ],
   "source": [
    " \n",
    "metric_scores = [precision_score, recall_score, f1_score, accuracy_score]\n",
    "for score in metric_scores:\n",
    "    if score != accuracy_score:\n",
    "        print(score.__name__.replace('_', ' ').title()+':', round(score(y_test, y_test_predictions, pos_label='stable'), 4))\n",
    "    else:\n",
    "        print(score.__name__.replace('_', ' ').title()+':', round(score(y_test, y_test_predictions), 4))"
   ]
  },
  {
   "cell_type": "markdown",
   "metadata": {
    "colab_type": "text",
    "id": "LzvDDVvq6Uaz"
   },
   "source": [
    " # Answer\n",
    "Accuracy on the test set is `0.929`"
   ]
  },
  {
   "cell_type": "markdown",
   "metadata": {
    "colab_type": "text",
    "id": "vQCpWZOvfnmO"
   },
   "source": [
    "- Confusion Matrix"
   ]
  },
  {
   "cell_type": "code",
   "execution_count": 80,
   "metadata": {
    "colab": {
     "base_uri": "https://localhost:8080/",
     "height": 51
    },
    "colab_type": "code",
    "executionInfo": {
     "elapsed": 6378,
     "status": "ok",
     "timestamp": 1598431783929,
     "user": {
      "displayName": "Olaoluwa Olaniyi",
      "photoUrl": "https://lh3.googleusercontent.com/a-/AOh14Gia510MxQJprLvA5BAtNn-4olz_NH98a_OrMREhlg=s64",
      "userId": "07885896635473036447"
     },
     "user_tz": -60
    },
    "id": "taDoUjLbfnmP",
    "outputId": "b99470f6-95c9-47cc-ba10-f48255183bd2"
   },
   "outputs": [
    {
     "name": "stdout",
     "output_type": "stream",
     "text": [
      "[[1233   55]\n",
      " [  87  625]]\n"
     ]
    }
   ],
   "source": [
    "# Print confusion matrix setting the label parameter as ['unstable', 'stable']\n",
    "cnf_mat = confusion_matrix(y_test, y_test_predictions, labels=['unstable', 'stable'])\n",
    "print (cnf_mat)"
   ]
  },
  {
   "cell_type": "markdown",
   "metadata": {
    "colab_type": "text",
    "id": "LrzlqA2cfnmi"
   },
   "source": [
    "### Extra Trees Classifier\n",
    "- Training and Predictions"
   ]
  },
  {
   "cell_type": "code",
   "execution_count": 81,
   "metadata": {
    "colab": {},
    "colab_type": "code",
    "executionInfo": {
     "elapsed": 6364,
     "status": "ok",
     "timestamp": 1598431783933,
     "user": {
      "displayName": "Olaoluwa Olaniyi",
      "photoUrl": "https://lh3.googleusercontent.com/a-/AOh14Gia510MxQJprLvA5BAtNn-4olz_NH98a_OrMREhlg=s64",
      "userId": "07885896635473036447"
     },
     "user_tz": -60
    },
    "id": "GLSTe4Chfnmj"
   },
   "outputs": [],
   "source": [
    "# Import ExtraTreesClassifier from sklearn.ensemble\n",
    "from sklearn.ensemble import ExtraTreesClassifier\n",
    " \n",
    "# Instantiate it into a variable\n",
    "et_clf = ExtraTreesClassifier(random_state=1)\n",
    " \n",
    "# Fit the model\n",
    "et_clf.fit(x_train, y_train)\n",
    " \n",
    "# Make predictions on the test set\n",
    "y_test_predictions = et_clf.predict(x_test)"
   ]
  },
  {
   "cell_type": "markdown",
   "metadata": {
    "colab_type": "text",
    "id": "tCiCOprK8qHR"
   },
   "source": [
    "- Performance Measurement"
   ]
  },
  {
   "cell_type": "code",
   "execution_count": 82,
   "metadata": {
    "colab": {
     "base_uri": "https://localhost:8080/",
     "height": 85
    },
    "colab_type": "code",
    "executionInfo": {
     "elapsed": 6352,
     "status": "ok",
     "timestamp": 1598431783936,
     "user": {
      "displayName": "Olaoluwa Olaniyi",
      "photoUrl": "https://lh3.googleusercontent.com/a-/AOh14Gia510MxQJprLvA5BAtNn-4olz_NH98a_OrMREhlg=s64",
      "userId": "07885896635473036447"
     },
     "user_tz": -60
    },
    "id": "UUgfkqEX8n2U",
    "outputId": "fde564aa-b89c-4b4f-8faf-7ff731c3f644"
   },
   "outputs": [
    {
     "name": "stdout",
     "output_type": "stream",
     "text": [
      "Precision Score: 0.941\n",
      "Recall Score: 0.8511\n",
      "F1 Score: 0.8938\n",
      "Accuracy Score: 0.928\n"
     ]
    }
   ],
   "source": [
    " \n",
    "metric_scores = [precision_score, recall_score, f1_score, accuracy_score]\n",
    "for score in metric_scores:\n",
    "    if score != accuracy_score:\n",
    "        print(score.__name__.replace('_', ' ').title()+':', round(score(y_test, y_test_predictions, pos_label='stable'), 4))\n",
    "    else:\n",
    "        print(score.__name__.replace('_', ' ').title()+':', round(score(y_test, y_test_predictions), 4))"
   ]
  },
  {
   "cell_type": "markdown",
   "metadata": {},
   "source": [
    "\\begin{equation}\n",
    "Accuracy Score = 0.928\n",
    "\\label{equation 1}\n",
    "\\end{equation}"
   ]
  },
  {
   "cell_type": "markdown",
   "metadata": {
    "colab_type": "text",
    "id": "1KfeTq0A9P5m"
   },
   "source": [
    " - Confusion Matrix"
   ]
  },
  {
   "cell_type": "code",
   "execution_count": 83,
   "metadata": {
    "colab": {
     "base_uri": "https://localhost:8080/",
     "height": 51
    },
    "colab_type": "code",
    "executionInfo": {
     "elapsed": 6338,
     "status": "ok",
     "timestamp": 1598431783940,
     "user": {
      "displayName": "Olaoluwa Olaniyi",
      "photoUrl": "https://lh3.googleusercontent.com/a-/AOh14Gia510MxQJprLvA5BAtNn-4olz_NH98a_OrMREhlg=s64",
      "userId": "07885896635473036447"
     },
     "user_tz": -60
    },
    "id": "KiHx_tQB9XL6",
    "outputId": "4ff920cd-89bc-438a-d3d0-228b4c8c45cc"
   },
   "outputs": [
    {
     "name": "stdout",
     "output_type": "stream",
     "text": [
      "[[1250   38]\n",
      " [ 106  606]]\n"
     ]
    }
   ],
   "source": [
    " # Print confusion matrix setting the label parameter as ['unstable', 'stable']\n",
    "cnf_mat = confusion_matrix(y_test, y_test_predictions, labels=['unstable', 'stable'])\n",
    "print (cnf_mat)"
   ]
  },
  {
   "cell_type": "markdown",
   "metadata": {
    "colab_type": "text",
    "id": "S80t60ju82hD"
   },
   "source": [
    "# Question \n",
    "What is the accuracy on the test set using the xgboost classifier? In 4 decimal places."
   ]
  },
  {
   "cell_type": "markdown",
   "metadata": {
    "colab_type": "text",
    "id": "VjZYqoFnfnmp"
   },
   "source": [
    "### Extreme Gradient Boosting\n",
    "- Training and Predictions"
   ]
  },
  {
   "cell_type": "code",
   "execution_count": 84,
   "metadata": {
    "colab": {},
    "colab_type": "code",
    "executionInfo": {
     "elapsed": 7826,
     "status": "ok",
     "timestamp": 1598431785447,
     "user": {
      "displayName": "Olaoluwa Olaniyi",
      "photoUrl": "https://lh3.googleusercontent.com/a-/AOh14Gia510MxQJprLvA5BAtNn-4olz_NH98a_OrMREhlg=s64",
      "userId": "07885896635473036447"
     },
     "user_tz": -60
    },
    "id": "kMC2X3IDfnmq"
   },
   "outputs": [],
   "source": [
    "# Import xgboost\n",
    "import xgboost as xgb\n",
    " \n",
    "# Instantiate into a variable\n",
    "xgb_clf = xgb.XGBClassifier(random_state=1)\n",
    " \n",
    "# Fit the model\n",
    "xgb_clf.fit(x_train, y_train)\n",
    " \n",
    "# Make predictions\n",
    "y_test_predictions = xgb_clf.predict(x_test)"
   ]
  },
  {
   "cell_type": "markdown",
   "metadata": {
    "colab_type": "text",
    "id": "2sSrov4n-QcV"
   },
   "source": [
    " - Performance Measurement"
   ]
  },
  {
   "cell_type": "code",
   "execution_count": 85,
   "metadata": {
    "colab": {
     "base_uri": "https://localhost:8080/",
     "height": 85
    },
    "colab_type": "code",
    "executionInfo": {
     "elapsed": 7814,
     "status": "ok",
     "timestamp": 1598431785450,
     "user": {
      "displayName": "Olaoluwa Olaniyi",
      "photoUrl": "https://lh3.googleusercontent.com/a-/AOh14Gia510MxQJprLvA5BAtNn-4olz_NH98a_OrMREhlg=s64",
      "userId": "07885896635473036447"
     },
     "user_tz": -60
    },
    "id": "QRFKj9_7-VZs",
    "outputId": "263071f9-88ca-4d52-d910-1a8ea2817c00",
    "scrolled": true
   },
   "outputs": [
    {
     "name": "stdout",
     "output_type": "stream",
     "text": [
      "Precision Score: 0.9206\n",
      "Recall Score: 0.8469\n",
      "F1 Score: 0.8822\n",
      "Accuracy Score: 0.9195\n"
     ]
    }
   ],
   "source": [
    " \n",
    "metric_scores = [precision_score, recall_score, f1_score, accuracy_score]\n",
    "for score in metric_scores:\n",
    "    if score != accuracy_score:\n",
    "        print(score.__name__.replace('_', ' ').title()+':', round(score(y_test, y_test_predictions, pos_label='stable'), 4))\n",
    "    else:\n",
    "        print(score.__name__.replace('_', ' ').title()+':', round(score(y_test, y_test_predictions), 4))"
   ]
  },
  {
   "cell_type": "markdown",
   "metadata": {
    "colab_type": "text",
    "id": "F_GQIfyF88FQ"
   },
   "source": [
    "# Answer \n",
    "Accuracy on the test set using Extreme Gradient Boosting is `0.9195`"
   ]
  },
  {
   "cell_type": "markdown",
   "metadata": {
    "colab_type": "text",
    "id": "HL0Pk5C9-hUx"
   },
   "source": [
    " - Confusion Matrix"
   ]
  },
  {
   "cell_type": "code",
   "execution_count": 86,
   "metadata": {
    "colab": {
     "base_uri": "https://localhost:8080/",
     "height": 51
    },
    "colab_type": "code",
    "executionInfo": {
     "elapsed": 7798,
     "status": "ok",
     "timestamp": 1598431785452,
     "user": {
      "displayName": "Olaoluwa Olaniyi",
      "photoUrl": "https://lh3.googleusercontent.com/a-/AOh14Gia510MxQJprLvA5BAtNn-4olz_NH98a_OrMREhlg=s64",
      "userId": "07885896635473036447"
     },
     "user_tz": -60
    },
    "id": "_s-LRPXj-Zy_",
    "outputId": "f823a8ad-69b1-41f4-ae4f-53844fe96649"
   },
   "outputs": [
    {
     "name": "stdout",
     "output_type": "stream",
     "text": [
      "[[1236   52]\n",
      " [ 109  603]]\n"
     ]
    }
   ],
   "source": [
    "# Print confusion matrix setting the label parameter as ['unstable', 'stable']\n",
    "cnf_mat = confusion_matrix(y_test, y_test_predictions, labels=['unstable', 'stable'])\n",
    "print (cnf_mat)"
   ]
  },
  {
   "cell_type": "markdown",
   "metadata": {
    "colab_type": "text",
    "id": "-K5fbrHP7aRz"
   },
   "source": [
    " # Question \n",
    "What is the accuracy on the test set using the LGBM classifier? In 4 decimal places."
   ]
  },
  {
   "cell_type": "markdown",
   "metadata": {
    "colab_type": "text",
    "id": "_K_vTno6WF3x"
   },
   "source": [
    " ### Light Gradient Boosting\n",
    "- Training and Predictions"
   ]
  },
  {
   "cell_type": "code",
   "execution_count": 87,
   "metadata": {
    "colab": {},
    "colab_type": "code",
    "executionInfo": {
     "elapsed": 7781,
     "status": "ok",
     "timestamp": 1598431785454,
     "user": {
      "displayName": "Olaoluwa Olaniyi",
      "photoUrl": "https://lh3.googleusercontent.com/a-/AOh14Gia510MxQJprLvA5BAtNn-4olz_NH98a_OrMREhlg=s64",
      "userId": "07885896635473036447"
     },
     "user_tz": -60
    },
    "id": "qWbkPwm6WFOt"
   },
   "outputs": [],
   "source": [
    " # Import lightgbm\n",
    "import lightgbm as lgb\n",
    " \n",
    "# Instantiate into a variable\n",
    "lgb_clf = lgb.LGBMClassifier(random_state=1)\n",
    " \n",
    "# Fit the model\n",
    "lgb_clf.fit(x_train, y_train)\n",
    " \n",
    "# Make predictions\n",
    "y_test_predictions = lgb_clf.predict(x_test)"
   ]
  },
  {
   "cell_type": "markdown",
   "metadata": {
    "colab_type": "text",
    "id": "WKUg669yWwfw"
   },
   "source": [
    "- Performance Measurement"
   ]
  },
  {
   "cell_type": "code",
   "execution_count": 88,
   "metadata": {
    "colab": {
     "base_uri": "https://localhost:8080/",
     "height": 85
    },
    "colab_type": "code",
    "executionInfo": {
     "elapsed": 7767,
     "status": "ok",
     "timestamp": 1598431785456,
     "user": {
      "displayName": "Olaoluwa Olaniyi",
      "photoUrl": "https://lh3.googleusercontent.com/a-/AOh14Gia510MxQJprLvA5BAtNn-4olz_NH98a_OrMREhlg=s64",
      "userId": "07885896635473036447"
     },
     "user_tz": -60
    },
    "id": "0Tj-4DPCW1Cp",
    "outputId": "0fa302cc-2d2c-468b-8335-c68d86ea78ea"
   },
   "outputs": [
    {
     "name": "stdout",
     "output_type": "stream",
     "text": [
      "Precision Score: 0.9285\n",
      "Recall Score: 0.8933\n",
      "F1 Score: 0.9105\n",
      "Accuracy Score: 0.9375\n"
     ]
    }
   ],
   "source": [
    " \n",
    "metric_scores = [precision_score, recall_score, f1_score, accuracy_score]\n",
    "for score in metric_scores:\n",
    "    if score != accuracy_score:\n",
    "        print(score.__name__.replace('_', ' ').title()+':', round(score(y_test, y_test_predictions, pos_label='stable'), 4))\n",
    "    else:\n",
    "        print(score.__name__.replace('_', ' ').title()+':', round(score(y_test, y_test_predictions), 4))"
   ]
  },
  {
   "cell_type": "markdown",
   "metadata": {
    "colab_type": "text",
    "id": "TYxLRz8i7eLq"
   },
   "source": [
    "# Answer \n",
    "Accuracy on test set using LGBM is `0.9375`"
   ]
  },
  {
   "cell_type": "markdown",
   "metadata": {
    "colab_type": "text",
    "id": "awLh2JU6W6jV"
   },
   "source": [
    "- Confusion Matrix"
   ]
  },
  {
   "cell_type": "code",
   "execution_count": 89,
   "metadata": {
    "colab": {
     "base_uri": "https://localhost:8080/",
     "height": 51
    },
    "colab_type": "code",
    "executionInfo": {
     "elapsed": 7745,
     "status": "ok",
     "timestamp": 1598431785457,
     "user": {
      "displayName": "Olaoluwa Olaniyi",
      "photoUrl": "https://lh3.googleusercontent.com/a-/AOh14Gia510MxQJprLvA5BAtNn-4olz_NH98a_OrMREhlg=s64",
      "userId": "07885896635473036447"
     },
     "user_tz": -60
    },
    "id": "nSX2YFAlW9Wf",
    "outputId": "e34d6851-cfda-404e-ee1c-0a5450b40160"
   },
   "outputs": [
    {
     "name": "stdout",
     "output_type": "stream",
     "text": [
      "[[1239   49]\n",
      " [  76  636]]\n"
     ]
    }
   ],
   "source": [
    " # Print confusion matrix setting the label parameter as ['unstable', 'stable']\n",
    "cnf_mat = confusion_matrix(y_test, y_test_predictions, labels=['unstable', 'stable'])\n",
    "print (cnf_mat)"
   ]
  },
  {
   "cell_type": "markdown",
   "metadata": {
    "colab_type": "text",
    "id": "hF6r66CZ-rTv"
   },
   "source": [
    " # Improving Classifiers with RandomizedSearchCV"
   ]
  },
  {
   "cell_type": "markdown",
   "metadata": {
    "colab_type": "text",
    "id": "W6PgIsgOy6R-"
   },
   "source": [
    "We are going to improve the `ExtraTreesClassifier` by running a `RandomizedSearchCV` on it.\n",
    "\n",
    "Let's begin by specifying the hyperparameters needed for this operation."
   ]
  },
  {
   "cell_type": "code",
   "execution_count": 90,
   "metadata": {
    "colab": {},
    "colab_type": "code",
    "executionInfo": {
     "elapsed": 7729,
     "status": "ok",
     "timestamp": 1598431785459,
     "user": {
      "displayName": "Olaoluwa Olaniyi",
      "photoUrl": "https://lh3.googleusercontent.com/a-/AOh14Gia510MxQJprLvA5BAtNn-4olz_NH98a_OrMREhlg=s64",
      "userId": "07885896635473036447"
     },
     "user_tz": -60
    },
    "id": "0FfSD6Rfy3Di"
   },
   "outputs": [],
   "source": [
    "# Specify hyperparameter grid needed\n",
    "n_estimators = [50, 100, 300, 500, 1000]\n",
    "min_samples_split = [2, 3, 5, 7, 9]\n",
    "min_samples_leaf = [1, 2, 4, 6, 8]\n",
    "max_features = ['auto', 'sqrt', 'log2', None]\n",
    " \n",
    "hyperparameter_grid = {\n",
    "    'n_estimators':n_estimators, 'min_samples_split':min_samples_split, \n",
    "'min_samples_leaf':min_samples_leaf, 'max_features':max_features\n",
    "}"
   ]
  },
  {
   "cell_type": "markdown",
   "metadata": {
    "colab_type": "text",
    "id": "116maH1-AJdb"
   },
   "source": [
    "- Training and Predictions"
   ]
  },
  {
   "cell_type": "markdown",
   "metadata": {
    "colab_type": "text",
    "id": "Iui4VyX96xOB"
   },
   "source": [
    "# Question\n",
    "To improve the Extra Trees Classifier, you will use the following parameters (number of estimators, minimum number of samples, minimum number of samples for leaf node and the number of features to consider when looking for the best split) for the hyperparameter grid needed to run a Randomized Cross Validation Search (RandomizedSearchCV).\n",
    "\n",
    "**What are the best hyperparameters from the randomized search CV?**"
   ]
  },
  {
   "cell_type": "code",
   "execution_count": 91,
   "metadata": {
    "colab": {
     "base_uri": "https://localhost:8080/",
     "height": 173
    },
    "colab_type": "code",
    "executionInfo": {
     "elapsed": 9995,
     "status": "ok",
     "timestamp": 1598431889309,
     "user": {
      "displayName": "Olaoluwa Olaniyi",
      "photoUrl": "https://lh3.googleusercontent.com/a-/AOh14Gia510MxQJprLvA5BAtNn-4olz_NH98a_OrMREhlg=s64",
      "userId": "07885896635473036447"
     },
     "user_tz": -60
    },
    "id": "CgPP8DbJ1He3",
    "outputId": "b58866c0-73a0-40ce-ba2b-70ab86c2a17a"
   },
   "outputs": [
    {
     "name": "stdout",
     "output_type": "stream",
     "text": [
      "Fitting 5 folds for each of 10 candidates, totalling 50 fits\n"
     ]
    },
    {
     "name": "stderr",
     "output_type": "stream",
     "text": [
      "[Parallel(n_jobs=-1)]: Using backend LokyBackend with 2 concurrent workers.\n",
      "[Parallel(n_jobs=-1)]: Done  46 tasks      | elapsed:  1.5min\n",
      "[Parallel(n_jobs=-1)]: Done  50 out of  50 | elapsed:  1.5min finished\n"
     ]
    },
    {
     "data": {
      "text/plain": [
       "{'max_features': None,\n",
       " 'min_samples_leaf': 8,\n",
       " 'min_samples_split': 2,\n",
       " 'n_estimators': 1000}"
      ]
     },
     "execution_count": 91,
     "metadata": {
      "tags": []
     },
     "output_type": "execute_result"
    }
   ],
   "source": [
    " \n",
    "# Import RandomizedSearchCV\n",
    "from sklearn.model_selection import RandomizedSearchCV\n",
    " \n",
    "# Instantiate into a variable\n",
    "rscv_clf = RandomizedSearchCV(et_clf, cv=5, param_distributions=hyperparameter_grid, n_iter=10, scoring='accuracy', n_jobs=-1, verbose=1, random_state=1)\n",
    " \n",
    "# Fit the model\n",
    "rscv_clf.fit(x_train, y_train)\n",
    " \n",
    "# Make predictions on test set\n",
    "y_test_predictions = rscv_clf.predict(x_test)\n",
    " \n",
    "rscv_clf.best_params_"
   ]
  },
  {
   "cell_type": "markdown",
   "metadata": {
    "colab_type": "text",
    "id": "HBk4-dMG64Ig"
   },
   "source": [
    "# Answer\n",
    " \n",
    "The best hyperparameters are:\n",
    " \n",
    ">{'max_features': None,\n",
    " 'min_samples_leaf': 8,\n",
    " 'min_samples_split': 2,\n",
    " 'n_estimators': 1000}"
   ]
  },
  {
   "cell_type": "markdown",
   "metadata": {
    "colab_type": "text",
    "id": "WlEth9r833_1"
   },
   "source": [
    "- Performance Measurement"
   ]
  },
  {
   "cell_type": "code",
   "execution_count": 92,
   "metadata": {
    "colab": {
     "base_uri": "https://localhost:8080/",
     "height": 85
    },
    "colab_type": "code",
    "executionInfo": {
     "elapsed": 72,
     "status": "ok",
     "timestamp": 1598431889314,
     "user": {
      "displayName": "Olaoluwa Olaniyi",
      "photoUrl": "https://lh3.googleusercontent.com/a-/AOh14Gia510MxQJprLvA5BAtNn-4olz_NH98a_OrMREhlg=s64",
      "userId": "07885896635473036447"
     },
     "user_tz": -60
    },
    "id": "H6mqxGDd3hsO",
    "outputId": "33b78b50-d7ee-42ec-b3bc-1762df4107ac"
   },
   "outputs": [
    {
     "name": "stdout",
     "output_type": "stream",
     "text": [
      "Precision Score: 0.9211\n",
      "Recall Score: 0.8694\n",
      "F1 Score: 0.8945\n",
      "Accuracy Score: 0.927\n"
     ]
    }
   ],
   "source": [
    " \n",
    "metric_scores = [precision_score, recall_score, f1_score, accuracy_score]\n",
    "for score in metric_scores:\n",
    "    if score != accuracy_score:\n",
    "        print(score.__name__.replace('_', ' ').title()+':', round(score(y_test, y_test_predictions, pos_label='stable'), 4))\n",
    "    else:\n",
    "        print(score.__name__.replace('_', ' ').title()+':', round(score(y_test, y_test_predictions), 4))"
   ]
  },
  {
   "cell_type": "code",
   "execution_count": 93,
   "metadata": {
    "colab": {
     "base_uri": "https://localhost:8080/",
     "height": 51
    },
    "colab_type": "code",
    "executionInfo": {
     "elapsed": 45,
     "status": "ok",
     "timestamp": 1598431889317,
     "user": {
      "displayName": "Olaoluwa Olaniyi",
      "photoUrl": "https://lh3.googleusercontent.com/a-/AOh14Gia510MxQJprLvA5BAtNn-4olz_NH98a_OrMREhlg=s64",
      "userId": "07885896635473036447"
     },
     "user_tz": -60
    },
    "id": "uOkagU5HDxRM",
    "outputId": "0ef3c7e2-a489-47ea-ea79-8f9fc42931f3"
   },
   "outputs": [
    {
     "name": "stdout",
     "output_type": "stream",
     "text": [
      "[[1235   53]\n",
      " [  93  619]]\n"
     ]
    }
   ],
   "source": [
    " # Print confusion matrix setting the label parameter as ['unstable', 'stable']\n",
    "cnf_mat = confusion_matrix(y_test, y_test_predictions, labels=['unstable', 'stable'])\n",
    "print (cnf_mat)"
   ]
  },
  {
   "cell_type": "markdown",
   "metadata": {
    "colab_type": "text",
    "id": "JqQ29q2K7vHh"
   },
   "source": [
    "# Question \n",
    "Train a new ExtraTreesClassifier Model with the new Hyperparameters from the RandomizedSearchCV (with random_state = 1). Is the accuracy of the new optimal model higher or lower than the initial ExtraTreesClassifier model with no hyperparameter tuning?"
   ]
  },
  {
   "cell_type": "markdown",
   "metadata": {
    "colab_type": "text",
    "id": "qGjNol-t7x9t"
   },
   "source": [
    " ## Training ExtraTreesClassifier with hyperparameters from RandomizedSearchCV."
   ]
  },
  {
   "cell_type": "code",
   "execution_count": 94,
   "metadata": {
    "colab": {},
    "colab_type": "code",
    "executionInfo": {
     "elapsed": 12339,
     "status": "ok",
     "timestamp": 1598431901632,
     "user": {
      "displayName": "Olaoluwa Olaniyi",
      "photoUrl": "https://lh3.googleusercontent.com/a-/AOh14Gia510MxQJprLvA5BAtNn-4olz_NH98a_OrMREhlg=s64",
      "userId": "07885896635473036447"
     },
     "user_tz": -60
    },
    "id": "qflYnyw0pVZY"
   },
   "outputs": [],
   "source": [
    " # Import ExtraTreesClassifier from sklearn.ensemble\n",
    "from sklearn.ensemble import ExtraTreesClassifier\n",
    " \n",
    "# Instantiate it into a variable\n",
    "# Use hyperparameters derived from RandomizedSearchCV\n",
    "et_clf = ExtraTreesClassifier(n_estimators=1000, min_samples_split=2, min_samples_leaf=8, max_features=None, random_state=1)\n",
    " \n",
    "# Fit the model\n",
    "et_clf.fit(x_train, y_train)\n",
    " \n",
    "# Make predictions on the test set\n",
    "y_test_predictions = et_clf.predict(x_test)"
   ]
  },
  {
   "cell_type": "code",
   "execution_count": 95,
   "metadata": {
    "colab": {
     "base_uri": "https://localhost:8080/",
     "height": 85
    },
    "colab_type": "code",
    "executionInfo": {
     "elapsed": 118,
     "status": "ok",
     "timestamp": 1598431901636,
     "user": {
      "displayName": "Olaoluwa Olaniyi",
      "photoUrl": "https://lh3.googleusercontent.com/a-/AOh14Gia510MxQJprLvA5BAtNn-4olz_NH98a_OrMREhlg=s64",
      "userId": "07885896635473036447"
     },
     "user_tz": -60
    },
    "id": "gBWtosGFp0M-",
    "outputId": "080c491a-02bb-4397-c9f5-980f5e61ccd4"
   },
   "outputs": [
    {
     "name": "stdout",
     "output_type": "stream",
     "text": [
      "Precision Score: 0.9211\n",
      "Recall Score: 0.8694\n",
      "F1 Score: 0.8945\n",
      "Accuracy Score: 0.927\n"
     ]
    }
   ],
   "source": [
    " \n",
    "metric_scores = [precision_score, recall_score, f1_score, accuracy_score]\n",
    "for score in metric_scores:\n",
    "    if score != accuracy_score:\n",
    "        print(score.__name__.replace('_', ' ').title()+':', round(score(y_test, y_test_predictions, pos_label='stable'), 4))\n",
    "    else:\n",
    "        print(score.__name__.replace('_', ' ').title()+':', round(score(y_test, y_test_predictions), 4))"
   ]
  },
  {
   "cell_type": "markdown",
   "metadata": {
    "colab_type": "text",
    "id": "7pxg6aSB8GDc"
   },
   "source": [
    "# Answer \n",
    "The accuracy score in the new ExtraTreesClassifier with the optimal hyperparameters is `0.927`. This is slightly lower than the accuracy score of `0.928` derived earlier in equation **(\\ref{equation 1})** from the ExtraTreesClassifier"
   ]
  },
  {
   "cell_type": "markdown",
   "metadata": {
    "colab_type": "text",
    "id": "wNoQm7to5G1E"
   },
   "source": [
    "# Question\n",
    "Find the feature importance using the optimal ExtraTreesClassifier model. Which features are the most and least important respectively?"
   ]
  },
  {
   "cell_type": "code",
   "execution_count": 96,
   "metadata": {
    "colab": {
     "base_uri": "https://localhost:8080/",
     "height": 71
    },
    "colab_type": "code",
    "executionInfo": {
     "elapsed": 81,
     "status": "ok",
     "timestamp": 1598431901638,
     "user": {
      "displayName": "Olaoluwa Olaniyi",
      "photoUrl": "https://lh3.googleusercontent.com/a-/AOh14Gia510MxQJprLvA5BAtNn-4olz_NH98a_OrMREhlg=s64",
      "userId": "07885896635473036447"
     },
     "user_tz": -60
    },
    "id": "Wikw2IRZqxY6",
    "outputId": "95f138f3-d89d-4808-c05c-9783038d4d03"
   },
   "outputs": [
    {
     "name": "stdout",
     "output_type": "stream",
     "text": [
      "[0.13723979 0.14050787 0.1346805  0.13541662 0.00368361 0.0053368\n",
      " 0.00542927 0.0049625  0.10256224 0.1075776  0.11306257 0.10954062]\n"
     ]
    }
   ],
   "source": [
    "feature_importance = et_clf.feature_importances_\n",
    " \n",
    "print (feature_importance)"
   ]
  },
  {
   "cell_type": "code",
   "execution_count": 97,
   "metadata": {
    "colab": {
     "base_uri": "https://localhost:8080/",
     "height": 239
    },
    "colab_type": "code",
    "executionInfo": {
     "elapsed": 67,
     "status": "ok",
     "timestamp": 1598431901641,
     "user": {
      "displayName": "Olaoluwa Olaniyi",
      "photoUrl": "https://lh3.googleusercontent.com/a-/AOh14Gia510MxQJprLvA5BAtNn-4olz_NH98a_OrMREhlg=s64",
      "userId": "07885896635473036447"
     },
     "user_tz": -60
    },
    "id": "C1QsQZen3RXc",
    "outputId": "db280990-b73d-4288-8d09-49eaa1f0bb18"
   },
   "outputs": [
    {
     "name": "stdout",
     "output_type": "stream",
     "text": [
      "tau1    0.137240\n",
      "tau2    0.140508\n",
      "tau3    0.134680\n",
      "tau4    0.135417\n",
      "p1      0.003684\n",
      "p2      0.005337\n",
      "p3      0.005429\n",
      "p4      0.004963\n",
      "g1      0.102562\n",
      "g2      0.107578\n",
      "g3      0.113063\n",
      "g4      0.109541\n",
      "dtype: float64\n"
     ]
    }
   ],
   "source": [
    "feature_importance_series = pd.Series(feature_importance, index=data.drop('stabf', axis=1).columns)\n",
    " \n",
    "print (feature_importance_series)"
   ]
  },
  {
   "cell_type": "markdown",
   "metadata": {
    "colab_type": "text",
    "id": "II-ovO054Yjx"
   },
   "source": [
    "We can further sort the values to have a logical order of the importance of each feature."
   ]
  },
  {
   "cell_type": "code",
   "execution_count": 98,
   "metadata": {
    "colab": {
     "base_uri": "https://localhost:8080/",
     "height": 239
    },
    "colab_type": "code",
    "executionInfo": {
     "elapsed": 46,
     "status": "ok",
     "timestamp": 1598431901642,
     "user": {
      "displayName": "Olaoluwa Olaniyi",
      "photoUrl": "https://lh3.googleusercontent.com/a-/AOh14Gia510MxQJprLvA5BAtNn-4olz_NH98a_OrMREhlg=s64",
      "userId": "07885896635473036447"
     },
     "user_tz": -60
    },
    "id": "Iy3Pbktu4XvH",
    "outputId": "26d12c9a-d2b6-4f62-f4ee-f9e85f735b61"
   },
   "outputs": [
    {
     "name": "stdout",
     "output_type": "stream",
     "text": [
      "p1      0.003684\n",
      "p4      0.004963\n",
      "p2      0.005337\n",
      "p3      0.005429\n",
      "g1      0.102562\n",
      "g2      0.107578\n",
      "g4      0.109541\n",
      "g3      0.113063\n",
      "tau3    0.134680\n",
      "tau4    0.135417\n",
      "tau1    0.137240\n",
      "tau2    0.140508\n",
      "dtype: float64\n"
     ]
    }
   ],
   "source": [
    "print (feature_importance_series.sort_values())"
   ]
  },
  {
   "cell_type": "markdown",
   "metadata": {
    "colab_type": "text",
    "id": "OtQavTU34zs_"
   },
   "source": [
    "# Answer\n",
    "From the output of the cell above, the most important feature is `tau2` and the least important feature is `p1`."
   ]
  }
 ],
 "metadata": {
  "colab": {
   "collapsed_sections": [],
   "name": "Electricl Grid Stability.ipynb",
   "provenance": []
  },
  "kernelspec": {
   "display_name": "Python 3",
   "language": "python",
   "name": "python3"
  },
  "language_info": {
   "codemirror_mode": {
    "name": "ipython",
    "version": 3
   },
   "file_extension": ".py",
   "mimetype": "text/x-python",
   "name": "python",
   "nbconvert_exporter": "python",
   "pygments_lexer": "ipython3",
   "version": "3.8.3"
  },
  "latex_envs": {
   "LaTeX_envs_menu_present": true,
   "autoclose": false,
   "autocomplete": true,
   "bibliofile": "biblio.bib",
   "cite_by": "apalike",
   "current_citInitial": 1,
   "eqLabelWithNumbers": true,
   "eqNumInitial": 1,
   "hotkeys": {
    "equation": "Ctrl-E",
    "itemize": "Ctrl-I"
   },
   "labels_anchors": false,
   "latex_user_defs": false,
   "report_style_numbering": false,
   "user_envs_cfg": false
  }
 },
 "nbformat": 4,
 "nbformat_minor": 1
}
